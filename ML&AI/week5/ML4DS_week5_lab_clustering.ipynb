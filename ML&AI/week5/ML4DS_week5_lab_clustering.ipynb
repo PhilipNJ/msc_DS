{
 "cells": [
  {
   "cell_type": "markdown",
   "metadata": {
    "colab_type": "text",
    "id": "d4BhiuyVMaId"
   },
   "source": [
    "## ML4DS Lab - Week 5 - Clustering and K-means"
   ]
  },
  {
   "cell_type": "markdown",
   "metadata": {
    "colab_type": "text",
    "id": "CSg47NrXMaIf"
   },
   "source": [
    "### Aims:\n",
    "    * Practise K-means and Kernel K-means\n",
    "    "
   ]
  },
  {
   "cell_type": "code",
   "execution_count": 1,
   "metadata": {
    "colab": {},
    "colab_type": "code",
    "id": "GZ7CTEwfPIo7"
   },
   "outputs": [],
   "source": [
    "import warnings\n",
    "warnings.filterwarnings('ignore')\n",
    "import numpy as np\n",
    "%matplotlib inline\n",
    "import pylab as plt\n",
    "from matplotlib.colors import ListedColormap\n",
    "\n",
    "\n",
    "# Create color maps\n",
    "cmap_light = ListedColormap(['#FFAAAA', '#AAFFAA', '#AAAAFF'])\n",
    "cmap_bold = ListedColormap(['#FF0000', '#00FF00', '#0000FF'])"
   ]
  },
  {
   "cell_type": "markdown",
   "metadata": {},
   "source": [
    "### Task 4: Test clustering on 'Moon data'\n",
    "Task 4.1 \n",
    "- Use the make_moon function of the sklearn to obtain a pseudo-random dataset of two interleaving half circles\n",
    "- Visualise the data with the scatter function of pylab package"
   ]
  },
  {
   "cell_type": "code",
   "execution_count": null,
   "metadata": {},
   "outputs": [],
   "source": []
  },
  {
   "cell_type": "markdown",
   "metadata": {},
   "source": [
    "#### Task 4.2: Fit `KMeans` on the data and color each data point with its cluster membership  \n",
    "Reference: \n",
    "https://scikit-learn.org/stable/modules/generated/sklearn.cluster.KMeans.html"
   ]
  },
  {
   "cell_type": "code",
   "execution_count": null,
   "metadata": {},
   "outputs": [],
   "source": []
  },
  {
   "cell_type": "markdown",
   "metadata": {},
   "source": [
    "#### Task 4.3: Use `SpectralClustering` for Kernel K-Means with RBF and gamma. Test different Gamma values.\n",
    "    https://scikit-learn.org/stable/modules/generated/sklearn.cluster.SpectralClustering.html\n",
    "`gamma` = 15\n",
    "`affinity` = 'rbf'"
   ]
  },
  {
   "cell_type": "code",
   "execution_count": null,
   "metadata": {},
   "outputs": [],
   "source": []
  }
 ],
 "metadata": {
  "colab": {
   "name": "ML4DS_week4_lab_with_solutions.ipynb",
   "provenance": []
  },
  "kernelspec": {
   "display_name": "Python 3 (ipykernel)",
   "language": "python",
   "name": "python3"
  },
  "language_info": {
   "codemirror_mode": {
    "name": "ipython",
    "version": 3
   },
   "file_extension": ".py",
   "mimetype": "text/x-python",
   "name": "python",
   "nbconvert_exporter": "python",
   "pygments_lexer": "ipython3",
   "version": "3.10.6"
  }
 },
 "nbformat": 4,
 "nbformat_minor": 1
}
