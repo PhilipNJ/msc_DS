{
 "cells": [
  {
   "cell_type": "markdown",
   "metadata": {
    "colab_type": "text",
    "id": "hPP_mVT-Xk6X"
   },
   "source": [
    "<h3>Linear regression lab 2</h3>\n",
    "\n",
    "\n",
    "#### Aims \n",
    "\n",
    "* Practice general linear regression with polynomial and RBF \n",
    "* Choose the order of polynomials with cross validation\n",
    "* Practice ridge regression\n",
    "\n",
    "\n",
    "#### Tasks \n",
    "* Rescale\n",
    "* Write functions to construct the design matrix, $X$, with polynomials and RBFs\n",
    "* Implement cross-validation to choose the right polynoimal order\n",
    "* Test polynoimal regression and cross-validation on new data where the true order is known\n",
    "* Test ridge regression\n",
    "* Test linear regression with the RBF"
   ]
  },
  {
   "cell_type": "markdown",
   "metadata": {
    "colab_type": "text",
    "id": "hWtOPHtNXk6Y"
   },
   "source": [
    "#### Task 1: Again, we start by loading the Olympic 100m men's data"
   ]
  },
  {
   "cell_type": "code",
   "execution_count": 2,
   "metadata": {
    "colab": {},
    "colab_type": "code",
    "id": "WgQaL0rgXk6Z"
   },
   "outputs": [],
   "source": [
    "import numpy as np \n",
    "%matplotlib inline\n",
    "import pylab as plt\n",
    "\n",
    "data = np.loadtxt('olympic100m.txt', delimiter=',') # make sure olympic100m.txt is in the right folder\n",
    "x = data[:,0][:,None] # make x a matrix\n",
    "t = data[:,1][:,None] # make t a column vector "
   ]
  },
  {
   "cell_type": "markdown",
   "metadata": {
    "colab_type": "text",
    "id": "Prj3PGDfXk6c"
   },
   "source": [
    "#### Task 2: Perform Polynomial Regression on the Olympic data\n",
    "\n",
    "#### Task 2.1 Rescale $x$ \n",
    "We rescale $x$ to make it small. Doing so will stablise the computatoin, otherwise it quickly becomes unfeasible to fit polynomials over ~$2000$. Let's test the following two options:\n",
    "- Option 1: `(x-1896)/40`\n",
    "- Option 2: `(x-np.mean(x))/np.std(x) `"
   ]
  },
  {
   "cell_type": "code",
   "execution_count": 5,
   "metadata": {
    "colab": {},
    "colab_type": "code",
    "id": "UtjsxuaoXk6d"
   },
   "outputs": [],
   "source": [
    "def transform(x):\n",
    "    return (x-np.mean(x))/np.std(x)  # copy the code above to perform different rescaling"
   ]
  },
  {
   "cell_type": "code",
   "execution_count": 6,
   "metadata": {
    "colab": {},
    "colab_type": "code",
    "id": "LxKO7rOiXk6f",
    "outputId": "099f3504-a4e3-4163-dd8e-97c9859efdbf",
    "scrolled": true
   },
   "outputs": [
    {
     "data": {
      "text/plain": [
       "Text(0, 0.5, 'Time (seconds)')"
      ]
     },
     "execution_count": 6,
     "metadata": {},
     "output_type": "execute_result"
    },
    {
     "data": {
      "image/png": "[encoded data removed]",
      "text/plain": [
       "<Figure size 640x480 with 1 Axes>"
      ]
     },
     "metadata": {},
     "output_type": "display_data"
    }
   ],
   "source": [
    "# Test both options\n",
    "x = transform(x)# rescale x here\n",
    "plt.plot(x, t, 'ro')\n",
    "plt.xlabel('Rescaled years')\n",
    "plt.ylabel('Time (seconds)')"
   ]
  },
  {
   "cell_type": "markdown",
   "metadata": {
    "colab_type": "text",
    "id": "zZwJ6q-fXk6i"
   },
   "source": [
    "#### Task 2.2 Write you own function to construct the design matrix with polynomials\n",
    "\n",
    "$$\\mathbf{X} = \\begin{bmatrix}\n",
    "    1       & x_{1} & x_{1}^2 & \\dots & x_{1}^K \\\\\n",
    "    1       & x_{2} & x_{2} & \\dots & x_{2}^K \\\\\n",
    "    \\vdots & \\vdots &\\vdots &\\ddots &\\vdots\\\\\n",
    "    1       & x_{N} & x_{N}^2 & \\dots & x_{N}^K\n",
    "\\end{bmatrix} $$"
   ]
  },
  {
   "cell_type": "code",
   "execution_count": 8,
   "metadata": {
    "colab": {},
    "colab_type": "code",
    "id": "Hub-DywGXk6j"
   },
   "outputs": [],
   "source": [
    "def make_polynomial(x, maxorder): # The np.hstack function can be very helpful\n",
    "    X = np.ones_like(x) \n",
    "    for i in range(1,maxorder+1):\n",
    "        X = np.hstack((X,x**i))\n",
    "    return(X) "
   ]
  },
  {
   "cell_type": "markdown",
   "metadata": {
    "colab_type": "text",
    "id": "6qz4wL8ZXk6l"
   },
   "source": [
    "#### Task 2.3 Construct the design matrix with a predefined maximum polynomial order "
   ]
  },
  {
   "cell_type": "code",
   "execution_count": 9,
   "metadata": {
    "colab": {},
    "colab_type": "code",
    "id": "XDJYAbx_Xk6m"
   },
   "outputs": [],
   "source": [
    "poly_order = 9\n",
    "X_train = make_polynomial(x, poly_order) "
   ]
  },
  {
   "cell_type": "markdown",
   "metadata": {},
   "source": [
    "#### Task 2.4 Fit a linear regression model with polynomial matrix and print out the training loss"
   ]
  },
  {
   "cell_type": "code",
   "execution_count": 10,
   "metadata": {
    "colab": {},
    "colab_type": "code",
    "id": "vi5I9fcHXk6o",
    "outputId": "d3d81c3f-0523-47be-dd21-45a09929783b"
   },
   "outputs": [
    {
     "name": "stdout",
     "output_type": "stream",
     "text": [
      "loss at order  9  : 0.015317351464103035\n"
     ]
    }
   ],
   "source": [
    "from sklearn.linear_model import LinearRegression\n",
    "poly_reg = LinearRegression().fit(X_train, t) # Fit a linear model\n",
    "print('loss at order ', poly_order, ' :', np.mean((t-poly_reg.predict(X_train))**2 ) )"
   ]
  },
  {
   "cell_type": "markdown",
   "metadata": {},
   "source": [
    "#### Task 2.5 Plot the fitted model and data"
   ]
  },
  {
   "cell_type": "code",
   "execution_count": 12,
   "metadata": {
    "colab": {},
    "colab_type": "code",
    "id": "-p2FPiN7Xk6q",
    "outputId": "fd9c02ac-11a1-4b33-c698-63f221ad32ef"
   },
   "outputs": [
    {
     "data": {
      "text/plain": [
       "Text(0, 0.5, 'Time (seconds)')"
      ]
     },
     "execution_count": 12,
     "metadata": {},
     "output_type": "execute_result"
    },
    {
     "data": {
      "image/png": "[encoded data removed]",
      "text/plain": [
       "<Figure size 640x480 with 1 Axes>"
      ]
     },
     "metadata": {},
     "output_type": "display_data"
    }
   ],
   "source": [
    "x_test = np.linspace(1880,2020, 100)[:,None] # test data\n",
    "x_test = transform(x_test) # do the same rescaling to the test data \n",
    "X_test = make_polynomial(x_test, poly_order) # construct the polynomial matrix for test data\n",
    "f_test = poly_reg.predict(X_test)\n",
    "plt.plot(x_test,f_test,'b-',linewidth=2) # plot the fitted data\n",
    "plt.scatter(x,t) # draw a scatter plot\n",
    "plt.xlabel('Years') # always label x&y-axis\n",
    "plt.ylabel('Time (seconds)') # always label x&y-axis"
   ]
  },
  {
   "cell_type": "markdown",
   "metadata": {
    "colab_type": "text",
    "id": "KEfLVys_Xk6s"
   },
   "source": [
    "### Task 3: Choosing Polynomial order with Cross-Validation\n",
    "\n",
    "#### Task 3.1: Cross-Validation with a given Polynomial order.\n",
    "Reference for `KFold`: https://scikit-learn.org/stable/modules/generated/sklearn.model_selection.KFold.html"
   ]
  },
  {
   "cell_type": "code",
   "execution_count": 43,
   "metadata": {
    "colab": {},
    "colab_type": "code",
    "id": "ZNooAiyIXk6s",
    "outputId": "49773bc6-230e-40c8-bc7d-5fd05532763d"
   },
   "outputs": [
    {
     "name": "stdout",
     "output_type": "stream",
     "text": [
      "TRAIN: [ 6  7  8  9 10 11 12 13 14 15 16 17 18 19 20 21 22 23 24 25 26] TEST: [0 1 2 3 4 5]\n",
      "TRAIN: [ 0  1  2  3  4  5 12 13 14 15 16 17 18 19 20 21 22 23 24 25 26] TEST: [ 6  7  8  9 10 11]\n",
      "TRAIN: [ 0  1  2  3  4  5  6  7  8  9 10 11 17 18 19 20 21 22 23 24 25 26] TEST: [12 13 14 15 16]\n",
      "TRAIN: [ 0  1  2  3  4  5  6  7  8  9 10 11 12 13 14 15 16 22 23 24 25 26] TEST: [17 18 19 20 21]\n",
      "TRAIN: [ 0  1  2  3  4  5  6  7  8  9 10 11 12 13 14 15 16 17 18 19 20 21] TEST: [22 23 24 25 26]\n",
      "[2331.177225272052, 0.4133916880375701, 0.039626321155412966, 0.13148255026635497, 107.12933254038944]\n",
      "487.77821167438026\n"
     ]
    }
   ],
   "source": [
    "from sklearn.model_selection import KFold \n",
    "cv = KFold(n_splits = 5) # call KFold to set up CV \n",
    "loss = [] # initiate a set to collect loss\n",
    "reg =  ... # call a linear regression model\n",
    "\n",
    "poly_order = 9 \n",
    "X_train = make_polynomial(x, poly_order)\n",
    "\n",
    "for train_index, test_index in cv.split(X_train): \n",
    "    print('TRAIN:', train_index, 'TEST:', test_index)\n",
    "    ... # select X for training and testing\n",
    "    ... # select t for training and testing\n",
    "    ... # fit a model on the training data \n",
    "    loss.append(...) # compute loss on test data\n",
    "print(...) # print loss across fold\n",
    "print(...) # print average loss at this polynomial order"
   ]
  },
  {
   "cell_type": "markdown",
   "metadata": {
    "colab_type": "text",
    "id": "OF5cgMBjXk6u"
   },
   "source": [
    "#### Task 3.2: Cross-Validation for a range of Polynomial orders."
   ]
  },
  {
   "cell_type": "code",
   "execution_count": 44,
   "metadata": {
    "colab": {},
    "colab_type": "code",
    "id": "uVJMbYJXXk6v",
    "outputId": "0960ffa1-955c-40c5-a292-ffa1a5a012ee"
   },
   "outputs": [
    {
     "data": {
      "text/plain": [
       "Text(0, 0.5, 'Log Loss')"
      ]
     },
     "execution_count": 44,
     "metadata": {},
     "output_type": "execute_result"
    },
    {
     "data": {
      "image/png": "[encoded data removed]",
      "text/plain": [
       "<Figure size 432x288 with 1 Axes>"
      ]
     },
     "metadata": {
      "needs_background": "light"
     },
     "output_type": "display_data"
    }
   ],
   "source": [
    "cv = KFold(n_splits = 10) # call KFold to set up CV \n",
    "reg = LinearRegression() # call a linear regression model\n",
    "all_loss = [] # initiate a set to collect loss\n",
    "\n",
    "for i in range(9):  # 1st for loop over polynomial orders \n",
    "    poly_order = i\n",
    "    X_train = make_polynomial(x, poly_order) \n",
    "    loss_at_order = [] # initiate a set to collect loss for CV\n",
    "    for train_index, test_index in cv.split(X_train): # 2nd for loop for cross-validation\n",
    "        ... # select X for training and testing\n",
    "        ... # select t for training and testing\n",
    "        ... # fit a model on the training data \n",
    "        loss_at_order.append( ... ) # collect loss at fold\n",
    "    all_loss.append(...) # collect loss at order\n",
    "plt.plot(..., 'bo-') # plot log(loss) at order\n",
    "plt.xlabel('Polynomial Order') # always label x&y-axis\n",
    "plt.ylabel('Log Loss') # always label x&y-axis"
   ]
  },
  {
   "cell_type": "markdown",
   "metadata": {
    "colab_type": "text",
    "id": "1VO_NbwVXk6x"
   },
   "source": [
    "### Task 4: Cross-Validation for Polynomial order on new data"
   ]
  },
  {
   "cell_type": "code",
   "execution_count": 45,
   "metadata": {
    "colab": {},
    "colab_type": "code",
    "id": "aRd-_kmaXk6y"
   },
   "outputs": [],
   "source": [
    "np.random.seed(1) # fix random seed such that every time we get the same random numbers\n",
    "\n",
    "N = 100 # total number of data points \n",
    "x = 10*np.random.rand(N,1) - 5 # generate random x\n",
    "t = 5*x**3 - x**2 + x + 200*np.random.randn(N,1) # generate t according to the true model with additive noise\n",
    "\n",
    "N_independent_test = 50 # total number of independent testing data points \n",
    "x_independent_test = 10*np.random.rand(N_independent_test,1) - 5 # generate independent testing x\n",
    "t_independent_test = 5*x_independent_test**3 - x_independent_test**2 + x_independent_test + 200*np.random.randn(N_independent_test,1) # generate independent testing t with noise"
   ]
  },
  {
   "cell_type": "markdown",
   "metadata": {
    "colab_type": "text",
    "id": "s0OVe-mcXk60"
   },
   "source": [
    "### Plot new data."
   ]
  },
  {
   "cell_type": "code",
   "execution_count": 46,
   "metadata": {
    "colab": {},
    "colab_type": "code",
    "id": "HW5UBmVyXk60",
    "outputId": "2f80a02c-4a40-48f2-fa55-e5810d73391a"
   },
   "outputs": [
    {
     "data": {
      "text/plain": [
       "Text(0, 0.5, 't')"
      ]
     },
     "execution_count": 46,
     "metadata": {},
     "output_type": "execute_result"
    },
    {
     "data": {
      "image/png": "[encoded data removed]",
      "text/plain": [
       "<Figure size 432x288 with 1 Axes>"
      ]
     },
     "metadata": {
      "needs_background": "light"
     },
     "output_type": "display_data"
    }
   ],
   "source": [
    "plt.plot(x, t, 'ro')\n",
    "plt.xlabel('x')\n",
    "plt.ylabel('t')"
   ]
  },
  {
   "cell_type": "markdown",
   "metadata": {
    "colab_type": "text",
    "id": "tX_DnH4yXk62"
   },
   "source": [
    "#### Task 4.1: Redo Cross-Validation for Polynomial order on new data. Plot CV loss, training loss, and loss on the independent test set"
   ]
  },
  {
   "cell_type": "code",
   "execution_count": 47,
   "metadata": {
    "colab": {},
    "colab_type": "code",
    "id": "Lf-M6a-JXk63",
    "outputId": "03ba8c85-a3f6-4488-f590-2bcf96937481"
   },
   "outputs": [
    {
     "data": {
      "text/plain": [
       "Text(0, 0.5, 'Log Loss')"
      ]
     },
     "execution_count": 47,
     "metadata": {},
     "output_type": "execute_result"
    },
    {
     "data": {
      "image/png": "[encoded data removed]",
      "text/plain": [
       "<Figure size 432x288 with 1 Axes>"
      ]
     },
     "metadata": {
      "needs_background": "light"
     },
     "output_type": "display_data"
    }
   ],
   "source": [
    "cv = KFold(n_splits = 10)\n",
    "reg = LinearRegression() # model for CV\n",
    "reg_train = LinearRegression() # model for loss on training and independent test \n",
    "\n",
    "all_loss = []\n",
    "all_loss_trian = []\n",
    "all_loss_independent_test = []\n",
    "\n",
    "for i in range(9):  # 1st for loop over polynomial order\n",
    "    \n",
    "    poly_order = i \n",
    "    \n",
    "   \n",
    "    ... # construct polynomial matrix for all training data\n",
    "    ... # fit model on all training data\n",
    "    all_loss_trian.append( ...) # collect training loss\n",
    "    \n",
    "    ... #construct polynomial matrix for the independent test data\n",
    "    all_loss_independent_test.append(\n",
    "        np.mean(...) # collect loss on independent test data\n",
    "    \n",
    "    loss_at_order = [] \n",
    "    for train_index, test_index in cv.split(X_train): # 2nd for loop over folds\n",
    "        ... # select X for training and testing\n",
    "        ... # select t for training and testing\n",
    "        ... # fit a model on the training data \n",
    "        loss_at_order.append( ... ) # collect loss at fold\n",
    "    all_loss.append(np.mean(loss_at_order)) # collect loss at order\n",
    "\n",
    "plt.plot(np.log(all_loss), 'ro-') \n",
    "plt.plot(np.log(all_loss_trian), 'bo-')\n",
    "plt.plot(np.log(all_loss_independent_test), 'go-')\n",
    "plt.xlabel('Polynomial Order') # always label x&y-axis\n",
    "plt.ylabel('Log Loss') # always label x&y-axis"
   ]
  },
  {
   "cell_type": "markdown",
   "metadata": {
    "colab_type": "text",
    "id": "GFonG-XmXk65"
   },
   "source": [
    "### Task 5: Polynomial Linear Regression with L2 regression.\n",
    "\n",
    "$$ \\hat{\\mathbf{w}}_{ridge} = \\underset{\\mathbf{w} }{\\mathrm{argmin}}\n",
    " \\frac{1}{N} (\\mathbf{t} - \\mathbf{X}\\mathbf{w} )^{T} (\\mathbf{t} - \\mathbf{X}\\mathbf{w} ) + \\alpha \\mathbf{w}^T \\mathbf{w}$$\n",
    "check out https://scikit-learn.org/stable/modules/generated/sklearn.linear_model.Ridge.html for `Ridge`\n",
    "check out https://scikit-learn.org/stable/modules/generated/sklearn.model_selection.GridSearchCV.html for `GridSearchCV`"
   ]
  },
  {
   "cell_type": "code",
   "execution_count": 48,
   "metadata": {
    "colab": {},
    "colab_type": "code",
    "id": "noGwbTQKXk66",
    "outputId": "f6674eb7-5679-43a1-dae4-17947c4e6952"
   },
   "outputs": [
    {
     "data": {
      "text/plain": [
       "Text(0, 0.5, 'Time (seconds)')"
      ]
     },
     "execution_count": 48,
     "metadata": {},
     "output_type": "execute_result"
    },
    {
     "data": {
      "image/png": "[encoded data removed]",
      "text/plain": [
       "<Figure size 432x288 with 1 Axes>"
      ]
     },
     "metadata": {
      "needs_background": "light"
     },
     "output_type": "display_data"
    }
   ],
   "source": [
    "from sklearn.linear_model import Ridge\n",
    "from sklearn.model_selection import GridSearchCV\n",
    "\n",
    "poly_order = 10 \n",
    "... # construct polynomial matrix on training data\n",
    "\n",
    "... # generate x_test for plotting\n",
    "... # construct polynomial matrix on x_test\n",
    "\n",
    "... # call ridge model\n",
    "... # set out search grid for alpha\n",
    "... # Define CV on the search grid to define alpha\n",
    "... # Fit training data\n",
    "\n",
    "... # plot the model\n",
    "plt.scatter(x,t) # draw a scatter plot\n",
    "plt.xlabel('Years') # always label x&y-axis\n",
    "plt.ylabel('Time (seconds)') # always label x&y-axis"
   ]
  },
  {
   "cell_type": "markdown",
   "metadata": {
    "colab_type": "text",
    "id": "qUhRi2K-Xk68"
   },
   "source": [
    "### Task 6 Practice linear regression with RBF. \n",
    "\n",
    "Write you own function to construct the design matrix with RBF\n",
    "\n",
    "$$ h_k(x) = \\exp \\left( -\\frac{ (x-\\mbox{center}[k]) ^2}{2\\mbox{width}}  \\right)$$"
   ]
  },
  {
   "cell_type": "code",
   "execution_count": 49,
   "metadata": {
    "colab": {},
    "colab_type": "code",
    "id": "ad-KLTWfXk68"
   },
   "outputs": [],
   "source": [
    "def make_rbf(x, center, width):  # again np.hstack is very helpful\n",
    "    ...\n",
    "    return(X)"
   ]
  },
  {
   "cell_type": "markdown",
   "metadata": {
    "colab_type": "text",
    "id": "iDsObhKTXk7C"
   },
   "source": [
    "#### Task 6.2 Construct  the design matrix with $x$ itself as the center parameter\n",
    "Start with `width = 10` and test different values"
   ]
  },
  {
   "cell_type": "code",
   "execution_count": 50,
   "metadata": {
    "colab": {},
    "colab_type": "code",
    "id": "2QH2knFRXk7C",
    "outputId": "d0a26d6e-c22d-4b87-8953-dcae28869b97"
   },
   "outputs": [
    {
     "data": {
      "text/plain": [
       "(100, 100)"
      ]
     },
     "execution_count": 50,
     "metadata": {},
     "output_type": "execute_result"
    }
   ],
   "source": [
    "center = x \n",
    "width = 10\n",
    "X_rbf = make_rbf(x, center, width)\n",
    "X_rbf.shape"
   ]
  },
  {
   "cell_type": "markdown",
   "metadata": {
    "colab_type": "text",
    "id": "FIrY5QJpXk7F"
   },
   "source": [
    "#### Task 6.2 Fit a linear regression model with X constructed by RBF"
   ]
  },
  {
   "cell_type": "code",
   "execution_count": 51,
   "metadata": {
    "colab": {},
    "colab_type": "code",
    "id": "JUy4spXTXk7F",
    "outputId": "14baeefc-b4b2-4dd0-bf09-85463236fd85"
   },
   "outputs": [
    {
     "data": {
      "text/plain": [
       "Text(0, 0.5, 'x')"
      ]
     },
     "execution_count": 51,
     "metadata": {},
     "output_type": "execute_result"
    },
    {
     "data": {
      "image/png": "[encoded data removed]",
      "text/plain": [
       "<Figure size 432x288 with 1 Axes>"
      ]
     },
     "metadata": {
      "needs_background": "light"
     },
     "output_type": "display_data"
    }
   ],
   "source": [
    "...\n",
    "...\n",
    "plt.scatter(x,t) # draw a scatter plot\n",
    "plt.xlabel('t') # always label x&y-axis\n",
    "plt.ylabel('x') # always label x&y-axis"
   ]
  },
  {
   "cell_type": "code",
   "execution_count": null,
   "metadata": {
    "colab": {},
    "colab_type": "code",
    "id": "n-l6V13fXk7I"
   },
   "outputs": [],
   "source": []
  }
 ],
 "metadata": {
  "colab": {
   "name": "ML4DS_week2_lab_with_solutions.ipynb",
   "provenance": []
  },
  "kernelspec": {
   "display_name": "Python 3 (ipykernel)",
   "language": "python",
   "name": "python3"
  },
  "language_info": {
   "codemirror_mode": {
    "name": "ipython",
    "version": 3
   },
   "file_extension": ".py",
   "mimetype": "text/x-python",
   "name": "python",
   "nbconvert_exporter": "python",
   "pygments_lexer": "ipython3",
   "version": "3.11.5"
  },
  "toc": {
   "base_numbering": 1,
   "nav_menu": {},
   "number_sections": true,
   "sideBar": true,
   "skip_h1_title": false,
   "title_cell": "Table of Contents",
   "title_sidebar": "Contents",
   "toc_cell": false,
   "toc_position": {},
   "toc_section_display": true,
   "toc_window_display": false
  }
 },
 "nbformat": 4,
 "nbformat_minor": 1
}
